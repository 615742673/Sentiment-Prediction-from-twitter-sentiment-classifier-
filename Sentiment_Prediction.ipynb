{
 "cells": [
  {
   "cell_type": "markdown",
   "id": "d56dc782",
   "metadata": {},
   "source": [
    "# Part1 Read Pickle File"
   ]
  },
  {
   "cell_type": "code",
   "execution_count": 1,
   "id": "6ba417dc",
   "metadata": {},
   "outputs": [],
   "source": [
    "import pandas as pd\n",
    "import numpy as np\n",
    "import math\n",
    "unpickled_df = pd.read_pickle(\"test_emb.pkl\")  \n",
    "unpickled_df2 = pd.read_pickle(\"train_emb.pkl\")\n",
    "unpickled_df3 = pd.read_pickle(\"dev_emb.pkl\")\n",
    "unpickled_df4 = pd.read_pickle(\"unlabeled_emb.pkl\")\n"
   ]
  },
  {
   "cell_type": "markdown",
   "id": "e36c1436",
   "metadata": {},
   "source": [
    "# Part2 Train data set with different models"
   ]
  },
  {
   "cell_type": "code",
   "execution_count": 2,
   "id": "2570b534",
   "metadata": {
    "scrolled": true
   },
   "outputs": [
    {
     "name": "stdout",
     "output_type": "stream",
     "text": [
      "0.0675\n",
      "0.0675\n",
      "0.06700000000000006\n",
      "0.0665\n",
      "0.06600000000000006\n",
      "0.0665\n",
      "0.0665\n",
      "0.06600000000000006\n",
      "0.0665\n",
      "Accuracy,precision,recall for logic regression: 0.69825 0.6985442922772279 0.69825\n",
      "Accuracy,precision,recall for Gaussian naive bayes: 0.61475 0.6181032160354835 0.6147499999999999\n",
      "Accuracy,precision,recall for KNN: 0.621 0.6210146427717753 0.621\n"
     ]
    }
   ],
   "source": [
    "#x_train = unpickled_df2.iloc[:, 0].values\n",
    "from sklearn.linear_model import LogisticRegression\n",
    "import sklearn.naive_bayes as nb\n",
    "from sklearn.naive_bayes import GaussianNB\n",
    "from sklearn.neighbors import KNeighborsClassifier\n",
    "from sklearn.semi_supervised import LabelSpreading\n",
    "from sklearn.metrics import precision_score\n",
    "from sklearn.metrics import recall_score\n",
    "from sklearn.metrics import precision_recall_fscore_support\n",
    "from sklearn.naive_bayes import BernoulliNB\n",
    "knn = KNeighborsClassifier(n_neighbors=1)\n",
    "\n",
    "\n",
    "gnb_accs = []\n",
    "gnb = GaussianNB()\n",
    "x_train=[]\n",
    "y_train=[]\n",
    "x_test=[]\n",
    "y_test=[]\n",
    "x_test_unlabel=[]\n",
    "no_label = []\n",
    "dev_embed_AAE=[]\n",
    "dev_embed_AAE_Label=[]\n",
    "dev_embed_SAE=[]\n",
    "dev_embed_SAE_Label=[]\n",
    "dev_tfidf_AAE=[]\n",
    "dev_tfidf_AAE_Label=[]\n",
    "dev_tfidf_SAE=[]\n",
    "dev_tfidf_SAE_Label=[]\n",
    "trainTF=[]\n",
    "trainTFLabel=[]\n",
    "#print(unpickled_df2[\"Sentiment\"].values[0])\n",
    "for x in unpickled_df2[\"TFIDF\"]:\n",
    "    x_train.append(x)\n",
    "for x in unpickled_df2[\"Sentiment\"]:\n",
    "    y_train.append(x)\n",
    "for x in unpickled_df3[\"TFIDF\"]:\n",
    "    x_test.append(x)\n",
    "for x in unpickled_df3[\"Sentiment\"]:\n",
    "    y_test.append(x)\n",
    "for x in unpickled_df4[\"Sentiment\"]:\n",
    "    no_label.append(x)\n",
    "for x in unpickled_df4[\"TFIDF\"]:\n",
    "    x_test_unlabel.append(x)\n",
    "\n",
    "train_embed = pd.DataFrame(unpickled_df2.TFIDF.to_list())\n",
    "unlabeltrain = pd.DataFrame(unpickled_df4.TFIDF.to_list())\n",
    "for index, row in unpickled_df3.iterrows():\n",
    "    if row['Demographic']==\"AAE\":\n",
    "        dev_embed_AAE.append(row['TFIDF'])\n",
    "        dev_embed_AAE_Label.append(row['Sentiment'])\n",
    "    if row['Demographic']==\"SAE\":\n",
    "        dev_embed_SAE.append(row['TFIDF'])\n",
    "        dev_embed_SAE_Label.append(row['Sentiment'])\n",
    "\n",
    "nolabel = [-1 for _ in range(len(unpickled_df4['Sentiment']))]\n",
    "lgr = LogisticRegression(max_iter=1000)\n",
    "lgr.fit(x_train,y_train)\n",
    "pred1 = lgr.predict(x_test)\n",
    "precision = precision_score(y_test,pred1,average='macro')\n",
    "recall = recall_score(y_test,pred1,average='macro')\n",
    "gnb.fit(x_train,y_train)\n",
    "knn.fit(x_train, y_train)\n",
    "pred2 = gnb.predict(x_test)\n",
    "precision2 = precision_score(y_test,pred2,average='macro')\n",
    "recall2 = recall_score(y_test,pred2,average='macro')\n",
    "pred3 = knn.predict(x_test)\n",
    "precision3 = precision_score(y_test,pred3,average='macro')\n",
    "recall3 = recall_score(y_test,pred3,average='macro')\n",
    "\n",
    "for i in range(1,20):\n",
    "    testknn = KNeighborsClassifier(n_neighbors=i)\n",
    "    testknn.fit(x_train,y_train)\n",
    "    diff=testknn.score(dev_embed_SAE,dev_embed_SAE_Label)-testknn.score(dev_embed_AAE,dev_embed_AAE_Label)\n",
    "    #print(diff)\n",
    "for i in range(1,10):\n",
    "    testlgr = LogisticRegression(max_iter=1000,C=float(i))\n",
    "    testlgr.fit(x_train,y_train)\n",
    "    diff=testlgr.score(dev_embed_SAE,dev_embed_SAE_Label)-testlgr.score(dev_embed_AAE,dev_embed_AAE_Label)\n",
    "    #print(diff)\n",
    "print(\"Accuracy,precision,recall for logic regression:\",lgr.score(x_test,y_test),precision,recall)\n",
    "print(\"Accuracy,precision,recall for Gaussian naive bayes:\", gnb.score(x_test, y_test),precision2,recall2)\n",
    "print(\"Accuracy,precision,recall for KNN:\", knn.score(x_test, y_test),precision3,recall3)\n",
    "\n",
    "\n"
   ]
  },
  {
   "cell_type": "markdown",
   "id": "34b7a99b",
   "metadata": {},
   "source": [
    "# Part3 Calculate Accuracy for AAE and SAE group with different models"
   ]
  },
  {
   "cell_type": "code",
   "execution_count": 3,
   "id": "a9ed8d56",
   "metadata": {},
   "outputs": [
    {
     "name": "stdout",
     "output_type": "stream",
     "text": [
      "Accuracy for Gaussian naive bayes on SAE: 0.652\n",
      "Accuracy for Gaussian naive bayes on AAE: 0.5775\n",
      "Accuracy for KNN on SAE: 0.6485\n",
      "Accuracy for KNN on AAE: 0.5935\n",
      "Accuracy for Logic regression on SAE: 0.732\n",
      "Accuracy for Logic regression on AAE: 0.6645\n"
     ]
    }
   ],
   "source": [
    "print(\"Accuracy for Gaussian naive bayes on SAE:\", gnb.fit(x_train,y_train).score(dev_embed_SAE,dev_embed_SAE_Label ))\n",
    "print(\"Accuracy for Gaussian naive bayes on AAE:\", gnb.fit(x_train,y_train).score(dev_embed_AAE,dev_embed_AAE_Label ))\n",
    "print(\"Accuracy for KNN on SAE:\", knn.fit(x_train,y_train).score(dev_embed_SAE,dev_embed_SAE_Label ))\n",
    "print(\"Accuracy for KNN on AAE:\", knn.fit(x_train,y_train).score(dev_embed_AAE,dev_embed_AAE_Label ))\n",
    "print(\"Accuracy for Logic regression on SAE:\", lgr.fit(x_train,y_train).score(dev_embed_SAE,dev_embed_SAE_Label ))\n",
    "print(\"Accuracy for Logic regression on AAE:\", lgr.fit(x_train,y_train).score(dev_embed_AAE,dev_embed_AAE_Label ))\n"
   ]
  },
  {
   "cell_type": "markdown",
   "id": "31f9c2bb",
   "metadata": {},
   "source": [
    "# Part4 Show the gap between AAE and SAE group in Naive Bayes"
   ]
  },
  {
   "cell_type": "code",
   "execution_count": 4,
   "id": "84cd196e",
   "metadata": {},
   "outputs": [
    {
     "data": {
      "text/plain": [
       "<BarContainer object of 3 artists>"
      ]
     },
     "execution_count": 4,
     "metadata": {},
     "output_type": "execute_result"
    },
    {
     "data": {
      "image/png": "[encoded data removed]",
      "text/plain": [
       "<Figure size 432x288 with 1 Axes>"
      ]
     },
     "metadata": {
      "needs_background": "light"
     },
     "output_type": "display_data"
    }
   ],
   "source": [
    "import matplotlib.pyplot as plt\n",
    "plt.bar([\"Total\",\"AAE\",\"SAE\"],[gnb.score(x_test, y_test),gnb.score(dev_embed_AAE,dev_embed_AAE_Label ),gnb.score(dev_embed_SAE,dev_embed_SAE_Label )])"
   ]
  },
  {
   "cell_type": "markdown",
   "id": "a7846c35",
   "metadata": {},
   "source": [
    "# Part4.1Show the gap between AAE and SAE group in logic Regression"
   ]
  },
  {
   "cell_type": "code",
   "execution_count": 5,
   "id": "fb230971",
   "metadata": {},
   "outputs": [
    {
     "data": {
      "text/plain": [
       "<BarContainer object of 3 artists>"
      ]
     },
     "execution_count": 5,
     "metadata": {},
     "output_type": "execute_result"
    },
    {
     "data": {
      "image/png": "[encoded data removed]",
      "text/plain": [
       "<Figure size 432x288 with 1 Axes>"
      ]
     },
     "metadata": {
      "needs_background": "light"
     },
     "output_type": "display_data"
    }
   ],
   "source": [
    "import matplotlib.pyplot as plt\n",
    "plt.bar([\"Total\",\"AAE\",\"SAE\"],[lgr.score(x_test, y_test),lgr.score(dev_embed_AAE,dev_embed_AAE_Label ),lgr.score(dev_embed_SAE,dev_embed_SAE_Label )])"
   ]
  },
  {
   "cell_type": "markdown",
   "id": "62a48a4a",
   "metadata": {},
   "source": [
    "# Part4.2Show the gap between AAE and SAE group in Knn model"
   ]
  },
  {
   "cell_type": "code",
   "execution_count": 6,
   "id": "72514609",
   "metadata": {},
   "outputs": [
    {
     "data": {
      "text/plain": [
       "<BarContainer object of 3 artists>"
      ]
     },
     "execution_count": 6,
     "metadata": {},
     "output_type": "execute_result"
    },
    {
     "data": {
      "image/png": "[encoded data removed]",
      "text/plain": [
       "<Figure size 432x288 with 1 Axes>"
      ]
     },
     "metadata": {
      "needs_background": "light"
     },
     "output_type": "display_data"
    }
   ],
   "source": [
    "import matplotlib.pyplot as plt\n",
    "plt.bar([\"Total\",\"AAE\",\"SAE\"],[knn.score(x_test, y_test),knn.score(dev_embed_AAE,dev_embed_AAE_Label ),knn.score(dev_embed_SAE,dev_embed_SAE_Label )])"
   ]
  },
  {
   "cell_type": "markdown",
   "id": "4c0d8467",
   "metadata": {},
   "source": [
    "# Part5 train the data in test file and save it as csv file"
   ]
  },
  {
   "cell_type": "code",
   "execution_count": 7,
   "id": "4c7cc85d",
   "metadata": {},
   "outputs": [],
   "source": [
    "test_embed = pd.DataFrame(unpickled_df.TFIDF.to_list())\n",
    "kaggle = lgr.predict(test_embed)\n",
    "df = pd.DataFrame(kaggle,columns=['Category'])\n",
    "df.to_csv(\"Submission\",index_label=\"Id\")"
   ]
  },
  {
   "cell_type": "code",
   "execution_count": null,
   "id": "783c3471",
   "metadata": {},
   "outputs": [],
   "source": []
  }
 ],
 "metadata": {
  "kernelspec": {
   "display_name": "Python 3 (ipykernel)",
   "language": "python",
   "name": "python3"
  },
  "language_info": {
   "codemirror_mode": {
    "name": "ipython",
    "version": 3
   },
   "file_extension": ".py",
   "mimetype": "text/x-python",
   "name": "python",
   "nbconvert_exporter": "python",
   "pygments_lexer": "ipython3",
   "version": "3.9.7"
  }
 },
 "nbformat": 4,
 "nbformat_minor": 5
}
